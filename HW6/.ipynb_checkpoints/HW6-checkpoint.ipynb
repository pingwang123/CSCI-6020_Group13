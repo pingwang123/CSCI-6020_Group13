{
 "cells": [
  {
   "cell_type": "markdown",
   "metadata": {},
   "source": [
    "# Homework 6\n",
    "You need to classify digits with SVM models in this homework. Use PCA to reduce data dimensionality (80% information remain). Compare performance of linear, radial, and polynomial kernals. Tune kernal parameters using Randomsearch method."
   ]
  },
  {
   "cell_type": "code",
   "execution_count": 1,
   "metadata": {},
   "outputs": [
    {
     "data": {
      "image/png": "[encoded data removed]",
      "text/plain": [
       "<Figure size 720x288 with 40 Axes>"
      ]
     },
     "metadata": {},
     "output_type": "display_data"
    }
   ],
   "source": [
    "%matplotlib inline\n",
    "import numpy as np\n",
    "import matplotlib.pyplot as plt\n",
    "from scipy import stats\n",
    "\n",
    "# use seaborn plotting defaults\n",
    "import seaborn as sns; sns.set()\n",
    "from sklearn import datasets, svm, metrics\n",
    "\n",
    "# The digits dataset\n",
    "digits = datasets.load_digits()\n",
    "\n",
    "def plot_digits(data):\n",
    "    fig, axes = plt.subplots(4, 10, figsize=(10, 4),\n",
    "                             subplot_kw={'xticks':[], 'yticks':[]},\n",
    "                             gridspec_kw=dict(hspace=0.1, wspace=0.1))\n",
    "    for i, ax in enumerate(axes.flat):\n",
    "        ax.imshow(data[i].reshape(8, 8),\n",
    "                  cmap='binary', interpolation='nearest',\n",
    "                  clim=(0, 16))\n",
    "plot_digits(digits.data)"
   ]
  },
  {
   "cell_type": "code",
   "execution_count": 2,
   "metadata": {},
   "outputs": [
    {
     "name": "stdout",
     "output_type": "stream",
     "text": [
      "[0.14890594 0.28509365 0.40303959 0.48713938 0.54496353 0.59413263\n",
      " 0.6372925  0.67390623 0.70743871 0.73822677 0.76195018 0.78467714\n",
      " 0.80289578 0.82063433 0.83530534 0.84940249 0.86258838 0.87506976\n",
      " 0.88524694 0.89430312 0.9031985  0.91116973 0.91884467 0.9260737\n",
      " 0.93303259 0.9389934  0.94474955 0.94990113 0.95479652 0.9590854\n",
      " 0.96282146 0.96635421 0.96972105 0.97300135 0.97608455 0.97902234\n",
      " 0.98158823 0.98386565 0.98608843 0.98820273 0.99010182 0.99168835\n",
      " 0.99319995 0.99460574 0.99577196 0.99684689 0.99781094 0.99858557\n",
      " 0.99914278 0.99954711 0.99975703 0.99983951 0.99989203 0.99994255\n",
      " 0.99997555 0.99998798 0.99999503 0.99999804 0.99999911 0.99999966\n",
      " 1.         1.         1.         1.        ]\n"
     ]
    },
    {
     "data": {
      "image/png": "[encoded data removed]",
      "text/plain": [
       "<Figure size 432x288 with 1 Axes>"
      ]
     },
     "metadata": {},
     "output_type": "display_data"
    }
   ],
   "source": [
    "# choose the number of components\n",
    "from sklearn.decomposition import PCA\n",
    "\n",
    "pca = PCA().fit(digits.data)\n",
    "print(np.cumsum(pca.explained_variance_ratio_))\n",
    "\n",
    "plt.plot(np.cumsum(pca.explained_variance_ratio_))\n",
    "plt.xlabel('number of components')\n",
    "plt.ylabel('cumulative explained variance');"
   ]
  },
  {
   "cell_type": "code",
   "execution_count": 3,
   "metadata": {},
   "outputs": [
    {
     "data": {
      "text/plain": [
       "13"
      ]
     },
     "execution_count": 3,
     "metadata": {},
     "output_type": "execute_result"
    }
   ],
   "source": [
    "#double check the selected number of components \n",
    "pca_n=PCA(0.8).fit(digits.data)\n",
    "pca_n.n_components_"
   ]
  },
  {
   "cell_type": "code",
   "execution_count": 4,
   "metadata": {},
   "outputs": [
    {
     "name": "stdout",
     "output_type": "stream",
     "text": [
      "(1797, 13)\n"
     ]
    }
   ],
   "source": [
    "#transform 64 features to X_t with 13 features\n",
    "X_t=pca_n.fit_transform(digits.data)\n",
    "y=digits.target\n",
    "print(X_t.shape)"
   ]
  },
  {
   "cell_type": "code",
   "execution_count": 5,
   "metadata": {},
   "outputs": [
    {
     "name": "stdout",
     "output_type": "stream",
     "text": [
      "Accuracy: 0.9193175487465182\n",
      "{'C': 725}\n"
     ]
    }
   ],
   "source": [
    "# tune the linear kernal svc\n",
    "from sklearn.model_selection import RandomizedSearchCV\n",
    "from sklearn.svm import SVC\n",
    "\n",
    "svc_l=SVC(kernel='linear')\n",
    "param_grid = {'C' : range(0,1000)}\n",
    "svc_l_search=RandomizedSearchCV(estimator=svc_l, param_distributions=param_grid,cv=5)\n",
    "\n",
    "svc_l_search.fit(X_t,y)\n",
    "print(\"Accuracy:\",svc_l_search.best_score_)\n",
    "print(svc_l_search.best_params_)"
   ]
  },
  {
   "cell_type": "code",
   "execution_count": 6,
   "metadata": {},
   "outputs": [
    {
     "name": "stdout",
     "output_type": "stream",
     "text": [
      "Accuracy: 0.9688440111420611\n",
      "{'C': 902}\n"
     ]
    }
   ],
   "source": [
    "# tune the radial kernal svc\n",
    "\n",
    "svc_r=SVC(kernel='rbf')\n",
    "param_grid = {'C' : range(0,1000)}\n",
    "svc_r_search=RandomizedSearchCV(estimator=svc_r, param_distributions=param_grid,cv=5)\n",
    "\n",
    "svc_r_search.fit(X_t,y)\n",
    "print(\"Accuracy:\",svc_r_search.best_score_)\n",
    "print(svc_r_search.best_params_)"
   ]
  },
  {
   "cell_type": "code",
   "execution_count": 7,
   "metadata": {},
   "outputs": [
    {
     "name": "stdout",
     "output_type": "stream",
     "text": [
      "Accuracy: 0.9516109563602599\n",
      "{'C': 50}\n"
     ]
    }
   ],
   "source": [
    "# tune the polynomial kernal svc\n",
    "\n",
    "svc_p=SVC(kernel='poly')\n",
    "param_grid = {'C' : range(0,1000)}\n",
    "svc_p_search=RandomizedSearchCV(estimator=svc_p, param_distributions=param_grid,cv=5)\n",
    "\n",
    "svc_p_search.fit(X_t,y)\n",
    "print(\"Accuracy:\",svc_p_search.best_score_)\n",
    "print(svc_p_search.best_params_)"
   ]
  },
  {
   "cell_type": "code",
   "execution_count": null,
   "metadata": {},
   "outputs": [],
   "source": []
  }
 ],
 "metadata": {
  "kernelspec": {
   "display_name": "Python 3",
   "language": "python",
   "name": "python3"
  },
  "language_info": {
   "codemirror_mode": {
    "name": "ipython",
    "version": 3
   },
   "file_extension": ".py",
   "mimetype": "text/x-python",
   "name": "python",
   "nbconvert_exporter": "python",
   "pygments_lexer": "ipython3",
   "version": "3.8.5"
  }
 },
 "nbformat": 4,
 "nbformat_minor": 2
}
